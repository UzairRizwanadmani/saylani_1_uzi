{
 "cells": [
  {
   "attachments": {},
   "cell_type": "markdown",
   "metadata": {},
   "source": [
    "# Part -1 Python Basics (Variables)"
   ]
  },
  {
   "attachments": {},
   "cell_type": "markdown",
   "metadata": {},
   "source": [
    "1. Print Your Name with your Father name and Date of birth using suitable escape sequence charactor"
   ]
  },
  {
   "cell_type": "code",
   "execution_count": null,
   "metadata": {},
   "outputs": [],
   "source": [
    "print(F\"NAME:Uzair Rizwan \",\"\\n DOB: 04-04-2007\")"
   ]
  },
  {
   "attachments": {},
   "cell_type": "markdown",
   "metadata": {},
   "source": [
    "2. Write your small bio using variables and print it using print function"
   ]
  },
  {
   "cell_type": "code",
   "execution_count": null,
   "metadata": {},
   "outputs": [],
   "source": [
    "name = \"Uzair\"\n",
    "f_name = \"Rizwan\"\n",
    "student = \"SMIT\"\n",
    "print(F\"My Name Is {name}\")\n",
    "print(f\"My F.Name Is {f_name}\")\n",
    "print(f\"I am the student of {student}\")"
   ]
  },
  {
   "attachments": {},
   "cell_type": "markdown",
   "metadata": {},
   "source": [
    "3. Write a program in which use all the operators we can use in Python"
   ]
  },
  {
   "cell_type": "code",
   "execution_count": null,
   "metadata": {},
   "outputs": [],
   "source": [
    "a =2+5\n",
    "b =2-5\n",
    "c =2*5\n",
    "d =2/5\n",
    "e =2%5\n",
    "f =2//5\n",
    "g =2**5\n",
    "print(a)\n",
    "print(b)\n",
    "print(c)\n",
    "print(d)\n",
    "print(e)\n",
    "print(f)\n",
    "print(g)\n",
    "# print()\n"
   ]
  },
  {
   "attachments": {},
   "cell_type": "markdown",
   "metadata": {},
   "source": [
    "4. Completes the following steps of small task:\n",
    "    - Mention Marks of English , Islamiat and Maths out of 100 in 3 different variables\n",
    "    - Mention Variable of Total Marks and assign 300 to it\n",
    "    - Calculate Percentage"
   ]
  },
  {
   "cell_type": "code",
   "execution_count": null,
   "metadata": {},
   "outputs": [],
   "source": [
    "English = 85\n",
    "Islamiat = 80\n",
    "Math = 90\n",
    "Total = 300\n",
    "mark_obtained =English+Islamiat+Math\n",
    "percentage = mark_obtained / Total *100\n",
    "print(percentage)"
   ]
  },
  {
   "attachments": {},
   "cell_type": "markdown",
   "metadata": {},
   "source": [
    "# Part -2 Python Basics (Conditional Statements)"
   ]
  },
  {
   "attachments": {},
   "cell_type": "markdown",
   "metadata": {},
   "source": [
    "1) A company decided to give bonus of 5% to employee if his/her year of service is more than 5 years.\n",
    "Ask user for their salary and year of service and print the net bonus amount."
   ]
  },
  {
   "cell_type": "code",
   "execution_count": null,
   "metadata": {},
   "outputs": [],
   "source": [
    "salary = float(input(\"Enter your salary:\"))\n",
    "years_of_service = int(input(\"Enter your years of service:\"))\n",
    "if years_of_service > 5:\n",
    "    bonus = salary * 0.05\n",
    "    print(\"Net bonus amount:\", bonus)\n",
    "else:\n",
    "    print(\"you don't get bounus\")    \n"
   ]
  },
  {
   "attachments": {},
   "cell_type": "markdown",
   "metadata": {},
   "source": [
    "\n",
    "2) Write a program to check whether a person is eligible for voting or not. (accept age from user) if age is greater than 17 eligible otherwise not eligible"
   ]
  },
  {
   "cell_type": "code",
   "execution_count": null,
   "metadata": {},
   "outputs": [],
   "source": [
    "age = int(input(\"what's your age:\"))\n",
    "if age > 17:\n",
    "    print(\"eligible to vote\")\n",
    "else :\n",
    "    print(\"not eligible to vote\")\n"
   ]
  },
  {
   "attachments": {},
   "cell_type": "markdown",
   "metadata": {},
   "source": [
    "\n",
    "3) Write a program to check whether a number entered by user is even or odd."
   ]
  },
  {
   "cell_type": "code",
   "execution_count": null,
   "metadata": {},
   "outputs": [],
   "source": [
    "number = int(input(\"write a number\"))\n",
    "if (number%2==0):\n",
    "    print(\"number is even\")\n",
    "else :\n",
    "    print(\"number is odd\")"
   ]
  },
  {
   "attachments": {},
   "cell_type": "markdown",
   "metadata": {},
   "source": [
    "4) Write a program to check whether a number is divisible by 7 or not.\n",
    "Show Answer"
   ]
  },
  {
   "cell_type": "code",
   "execution_count": 25,
   "metadata": {},
   "outputs": [
    {
     "name": "stdout",
     "output_type": "stream",
     "text": [
      "147\n",
      "number is divisible by 7\n"
     ]
    }
   ],
   "source": [
    "number = int(input(\"enter a number\"))\n",
    "print(number)\n",
    "if number%7==0:\n",
    "    print(\"number is divisible by 7\")\n",
    "else :\n",
    "    print(\"number is not divisible by 7\")    \n",
    "\n",
    "# inptut = 15\n",
    "#number is not divisible by 7"
   ]
  },
  {
   "attachments": {},
   "cell_type": "markdown",
   "metadata": {},
   "source": [
    "5) Write a program to display \n",
    "\"Hello\" if a number entered by user is a multiple of five , otherwise print \"Bye\"."
   ]
  },
  {
   "cell_type": "code",
   "execution_count": null,
   "metadata": {},
   "outputs": [],
   "source": [
    "number = int(input(\"enter a number\"))\n",
    "if number%5==0:\n",
    "    print(\"hello\")\n",
    "else:\n",
    "    print(\"Bye\")"
   ]
  },
  {
   "attachments": {},
   "cell_type": "markdown",
   "metadata": {},
   "source": [
    "7) Write a program to display the last digit of a number.\n"
   ]
  },
  {
   "cell_type": "code",
   "execution_count": null,
   "metadata": {},
   "outputs": [],
   "source": [
    "num = int(input(\"Enter a number:\"))\n",
    "print(\"Last digit:\", num % 10)"
   ]
  },
  {
   "attachments": {},
   "cell_type": "markdown",
   "metadata": {},
   "source": [
    "9) Take values of length and breadth of a rectangle from user and print if it is square or rectangle."
   ]
  },
  {
   "cell_type": "code",
   "execution_count": null,
   "metadata": {},
   "outputs": [],
   "source": [
    "length = float(input(\"length of rectangle:\"))\n",
    "breadth = float(input(\"breadth of rectangle:\"))\n",
    "if length==breadth:\n",
    "    print(\"it's square\")\n",
    "else :\n",
    "    print(\"it's a rectangle\")"
   ]
  },
  {
   "attachments": {},
   "cell_type": "markdown",
   "metadata": {},
   "source": [
    "10) Take two int values from user and print greatest among them."
   ]
  },
  {
   "cell_type": "code",
   "execution_count": null,
   "metadata": {},
   "outputs": [],
   "source": [
    "a = int(input(\"Enter the first value:\"))\n",
    "b = int(input(\"Enter second value:\"))\n",
    "if a>b:\n",
    "    print(a,\"is greater than \",b)\n",
    "else :\n",
    "    print(b,\"is greater than \",a)"
   ]
  },
  {
   "attachments": {},
   "cell_type": "markdown",
   "metadata": {},
   "source": [
    "11) A shop will give discount of 10% if the cost of purchased quantity is more than 1000.\n",
    "Ask user for quantity\n",
    "Suppose, one unit will cost 100.\n",
    "Judge and print total cost for user."
   ]
  },
  {
   "cell_type": "code",
   "execution_count": null,
   "metadata": {},
   "outputs": [],
   "source": [
    "quantity = int(input(\"Enter the purchased quantity:\"))\n",
    "actual_cost = quantity*100\n",
    "print(\"the actual amount is\", actual_cost)\n",
    "if actual_cost>1000:\n",
    "    print(actual_cost/10)"
   ]
  },
  {
   "attachments": {},
   "cell_type": "markdown",
   "metadata": {},
   "source": [
    "12) A school has following rules for grading system:\n",
    "\n",
    "a. Below 25 - F\n",
    "\n",
    "b. 25 to 45 - E\n",
    "\n",
    "c. 45 to 50 - D\n",
    "\n",
    "d. 50 to 60 - C\n",
    "\n",
    "e. 60 to 80 - B\n",
    "\n",
    "f. Above 80 - A\n",
    "\n",
    "Ask user to enter marks and print the corresponding grade."
   ]
  },
  {
   "cell_type": "code",
   "execution_count": null,
   "metadata": {},
   "outputs": [],
   "source": [
    "total_marks = int(input(\"Enter the marks:\"))\n",
    "if total_marks < 25:\n",
    "    print(\"your grade is F\")\n",
    "elif total_marks < 45:\n",
    "    print(\"your grade is E\")\n",
    "elif total_marks < 50:\n",
    "    print(\"your grade is D\")\n",
    "elif total_marks < 60:\n",
    "    print(\"your grade is C\")\n",
    "elif total_marks < 80:\n",
    "    print(\"your grade is B\")\n",
    "else:\n",
    "    print(\"your grade is A\")    "
   ]
  },
  {
   "attachments": {},
   "cell_type": "markdown",
   "metadata": {},
   "source": [
    "14)A student will not be allowed to sit in exam if his/her attendence is less than 75%.\n",
    "\n",
    "Take following input from user\n",
    "\n",
    "- Number of classes held\n",
    "\n",
    "- Number of classes attended.\n",
    "\n",
    "And print\n",
    "\n",
    "- percentage of class attended\n",
    "\n",
    "- Is student is allowed to sit in exam or not.\n"
   ]
  },
  {
   "cell_type": "code",
   "execution_count": null,
   "metadata": {},
   "outputs": [],
   "source": [
    "total_class_held = int(input(\"how many classes are held:\"))\n",
    "classes_attended = int(input(\"how many classes you are attended?\"))\n",
    "percentage_of_class_attended =int((classes_attended/total_class_held)*100)\n",
    "print(percentage_of_class_attended)\n",
    "if percentage_of_class_attended >= 75:\n",
    "    print(\"allowed to sit in exam\")\n",
    "else:\n",
    "    print(\"not allowed to sit in exam\")"
   ]
  },
  {
   "attachments": {},
   "cell_type": "markdown",
   "metadata": {},
   "source": [
    "15) Modify the above question to allow student to sit if he/she has medical cause. Ask user if he/she has medical cause or not ( 'Y' or 'N' ) and print accordingly."
   ]
  },
  {
   "cell_type": "code",
   "execution_count": null,
   "metadata": {},
   "outputs": [],
   "source": [
    "total_class_held = int(input(\"how many classes are held:\"))\n",
    "classes_attended = int(input(\"how many classes you are attended?\"))\n",
    "percentage_of_class_attended =int((classes_attended/total_class_held)*100)\n",
    "medical_cause = input(\"you have any medical cause? (yes/no)\")\n",
    "print(percentage_of_class_attended)\n",
    "if percentage_of_class_attended >= 75 or medical_cause == \"yes\":\n",
    "    print(\"allowed to sit in exam\")\n",
    "else:\n",
    "    print(\"not allowed to sit in exam\")"
   ]
  },
  {
   "attachments": {},
   "cell_type": "markdown",
   "metadata": {},
   "source": [
    "16) Write a program to check if a year is leap year or not.\n",
    "\n",
    "If a year is divisible by 4 then it is leap year but if the year is century year like 2000, 1900, 2100 then it must be divisible by 400."
   ]
  },
  {
   "cell_type": "code",
   "execution_count": null,
   "metadata": {},
   "outputs": [],
   "source": [
    "year = int(input(\"Enter a year: \"))\n",
    "\n",
    "if year % 4 == 0:\n",
    "    if year % 100 == 0:\n",
    "        if year % 400 == 0:\n",
    "            print(year, \"is a leap year\")\n",
    "        else:\n",
    "            print(year, \"is not a leap year\")\n",
    "    else:\n",
    "        print(year, \"is a leap year\")\n",
    "else:\n",
    "    print(year, \"is not a leap year\")\n"
   ]
  },
  {
   "attachments": {},
   "cell_type": "markdown",
   "metadata": {},
   "source": [
    "17) Ask user to enter age, gender ( M or F ), marital status ( Y or N ) and then using following rules print their place of service.\n",
    "\n",
    "if employee is female, then she will work only in urban areas.\n",
    "\n",
    "if employee is a male and age is in between 20 to 40 then he may work in anywhere\n",
    "\n",
    "if employee is male and age is in between 40 t0 60 then he will work in urban areas only.\n",
    "\n",
    "And any other input of age should print \"ERROR\""
   ]
  },
  {
   "cell_type": "code",
   "execution_count": null,
   "metadata": {},
   "outputs": [],
   "source": [
    "age = int(input(\"write's your age:\"))\n",
    "gender = input(\"write's your gender:(male/female)\")\n",
    "martial_status = input(\"write's your martial status:(yes/no)\")\n",
    "if gender == \"female\":\n",
    "    print(\"you will work only in urban areas\")\n",
    "elif gender == \"male\" and age >=20 and age <=40:\n",
    "    print(\"you may work anywhere\")\n",
    "elif gender == \"male\" and age >=40 and age <=60:\n",
    "    print(\"you will work in urban areas only\")\n",
    "else:\n",
    "    print(\"ERROR\")"
   ]
  },
  {
   "attachments": {},
   "cell_type": "markdown",
   "metadata": {},
   "source": [
    "6) Write a program to calculate the electricity bill (accept number of unit from user) according to the following criteria :\n",
    "     Unit                                                     Price  \n",
    "uptp 100 units                                             no charge\n",
    "Next 200 units                                              Rs 5 per unit\n",
    "After 200 units                                             Rs 10 per unit\n",
    "(For example if input unit is 350 than total bill amount is Rs.3500\n",
    "(For example if input unit is 97 than total bill amount is Rs.0\n",
    "(For example if input unit is 150 than total bill amount is Rs.750"
   ]
  },
  {
   "cell_type": "code",
   "execution_count": null,
   "metadata": {},
   "outputs": [],
   "source": [
    "number_of_unit = int(input(\"write number of unit:\"))\n",
    "print(number_of_unit)\n",
    "if number_of_unit <= 100:\n",
    "    print(\"the total bil amount is\", number_of_unit*0)\n",
    "elif number_of_unit <=200 :\n",
    "    print(\"the total bil amount is\", number_of_unit*5)\n",
    "else :\n",
    "    print(\"the total bil amount is\" ,number_of_unit*10)"
   ]
  },
  {
   "attachments": {},
   "cell_type": "markdown",
   "metadata": {},
   "source": [
    "13) Take input of age of 3 people by user and determine oldest and youngest among them."
   ]
  },
  {
   "cell_type": "code",
   "execution_count": null,
   "metadata": {},
   "outputs": [],
   "source": [
    "age_1 = int(input(\"age of first person:\"))\n",
    "age_2 = int(input(\"age of second person:\"))\n",
    "age_3 = int(input(\"age of third person:\"))\n",
    "print(age_1)\n",
    "print(age_2)\n",
    "print(age_3)\n",
    "if age_1>age_2 and age_1>age_3:\n",
    "    print(age_1,\"is oldest\")\n",
    "    if age_2 < age_3:\n",
    "        print( age_2 ,\"is youngest \")\n",
    "    else:\n",
    "        print(age_3,\"isyoungest\")\n",
    "elif age_2>age_1 and age_2>age_3:\n",
    "    print(age_2,\"is oldest\")\n",
    "    if age_1 < age_3:\n",
    "        print(age_1,\"is youngest \")\n",
    "    else:\n",
    "        print(age_3,\"isyoungest\")\n",
    "else :\n",
    "    print(age_3,\"is oldest\")\n",
    "    if age_1 < age_2:\n",
    "        print(age_1,\"is youngest\")\n",
    "    else:\n",
    "        print(age_2, \"is youngest\")\n"
   ]
  }
 ],
 "metadata": {
  "kernelspec": {
   "display_name": "Python 3 (ipykernel)",
   "language": "python",
   "name": "python3"
  },
  "language_info": {
   "codemirror_mode": {
    "name": "ipython",
    "version": 3
   },
   "file_extension": ".py",
   "mimetype": "text/x-python",
   "name": "python",
   "nbconvert_exporter": "python",
   "pygments_lexer": "ipython3",
   "version": "3.11.7"
  }
 },
 "nbformat": 4,
 "nbformat_minor": 2
}
